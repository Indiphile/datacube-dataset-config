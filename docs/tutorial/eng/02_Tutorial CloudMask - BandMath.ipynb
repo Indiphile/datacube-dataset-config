{
 "cells": [
  {
   "cell_type": "markdown",
   "metadata": {},
   "source": [
    "#BandMath & CloudMask\n",
    "\n",
    "Queries can retrieve one or more variables (e.g. bands) and it is possible to perform opperations on them. \n"
   ]
  },
  {
   "cell_type": "code",
   "execution_count": 1,
   "metadata": {
    "collapsed": false
   },
   "outputs": [],
   "source": [
    "%matplotlib inline\n",
    "from datetime import  date\n",
    "from pprint import pprint\n",
    "from gdf import dt2secs, GDF \n",
    "from analytics import Analytics\n",
    "from execution_engine import ExecutionEngine\n",
    "from analytics_utils import plot"
   ]
  },
  {
   "cell_type": "code",
   "execution_count": 2,
   "metadata": {
    "collapsed": false
   },
   "outputs": [],
   "source": [
    "'''\n",
    "Start and end year. With LS5 and data available on \n",
    "the virtual machine it works with years 2010 and 2011\n",
    "'''\n",
    "start_year=2010 #int(input(\"Ingrese el año inicial/ start year\"))\n",
    "end_year=2010 #int(input(\"Ingrese el año final/ end year\"))"
   ]
  },
  {
   "cell_type": "code",
   "execution_count": 3,
   "metadata": {
    "collapsed": false
   },
   "outputs": [
    {
     "name": "stderr",
     "output_type": "stream",
     "text": [
      "DEBUG:analytics:Initialise Analytics Module.\n"
     ]
    },
    {
     "name": "stdout",
     "output_type": "stream",
     "text": [
      "Initialise Analytics Module.\n"
     ]
    },
    {
     "name": "stderr",
     "output_type": "stream",
     "text": [
      "INFO:gdf:Forcing refresh of all cached data\n"
     ]
    },
    {
     "name": "stdout",
     "output_type": "stream",
     "text": [
      "Forcing refresh of all cached data\n"
     ]
    },
    {
     "name": "stderr",
     "output_type": "stream",
     "text": [
      "INFO:gdf:Connected to databases ['landsat', 'modis']\n"
     ]
    },
    {
     "name": "stdout",
     "output_type": "stream",
     "text": [
      "Connected to databases ['landsat', 'modis']\n"
     ]
    },
    {
     "name": "stderr",
     "output_type": "stream",
     "text": [
      "INFO:gdf:Read storage configuration from databases ['LS8OLI', 'LS5TM', 'LS7ETM', 'LS5TMPQ', 'LS7ETMPQ', 'LS8OLIPQ']\n"
     ]
    },
    {
     "name": "stdout",
     "output_type": "stream",
     "text": [
      "Read storage configuration from databases ['LS8OLI', 'LS5TM', 'LS7ETM', 'LS5TMPQ', 'LS7ETMPQ', 'LS8OLIPQ']\n"
     ]
    },
    {
     "name": "stderr",
     "output_type": "stream",
     "text": [
      "DEBUG:execution_engine:Initialise Execution Module.\n"
     ]
    },
    {
     "name": "stdout",
     "output_type": "stream",
     "text": [
      "Initialise Execution Module.\n"
     ]
    },
    {
     "name": "stderr",
     "output_type": "stream",
     "text": [
      "INFO:gdf:Forcing refresh of all cached data\n"
     ]
    },
    {
     "name": "stdout",
     "output_type": "stream",
     "text": [
      "Forcing refresh of all cached data\n"
     ]
    },
    {
     "name": "stderr",
     "output_type": "stream",
     "text": [
      "INFO:gdf:Connected to databases ['landsat', 'modis']\n"
     ]
    },
    {
     "name": "stdout",
     "output_type": "stream",
     "text": [
      "Connected to databases ['landsat', 'modis']\n"
     ]
    },
    {
     "name": "stderr",
     "output_type": "stream",
     "text": [
      "INFO:gdf:Read storage configuration from databases ['LS8OLI', 'LS5TM', 'LS7ETM', 'LS5TMPQ', 'LS7ETMPQ', 'LS8OLIPQ']\n"
     ]
    },
    {
     "name": "stdout",
     "output_type": "stream",
     "text": [
      "Read storage configuration from databases ['LS8OLI', 'LS5TM', 'LS7ETM', 'LS5TMPQ', 'LS7ETMPQ', 'LS8OLIPQ']\n"
     ]
    },
    {
     "name": "stderr",
     "output_type": "stream",
     "text": [
      "DEBUG:analytics:storage_type = LS5TM\n"
     ]
    },
    {
     "name": "stdout",
     "output_type": "stream",
     "text": [
      "storage_type = LS5TM\n"
     ]
    },
    {
     "name": "stderr",
     "output_type": "stream",
     "text": [
      "DEBUG:analytics:variable = B40\n"
     ]
    },
    {
     "name": "stdout",
     "output_type": "stream",
     "text": [
      "variable = B40\n"
     ]
    },
    {
     "name": "stderr",
     "output_type": "stream",
     "text": [
      "DEBUG:analytics:variable = B30\n"
     ]
    },
    {
     "name": "stdout",
     "output_type": "stream",
     "text": [
      "variable = B30\n"
     ]
    },
    {
     "name": "stderr",
     "output_type": "stream",
     "text": [
      "DEBUG:analytics:storage_type = LS5TMPQ\n"
     ]
    },
    {
     "name": "stdout",
     "output_type": "stream",
     "text": [
      "storage_type = LS5TMPQ\n"
     ]
    },
    {
     "name": "stderr",
     "output_type": "stream",
     "text": [
      "DEBUG:analytics:variable = PQ\n"
     ]
    },
    {
     "name": "stdout",
     "output_type": "stream",
     "text": [
      "variable = PQ\n"
     ]
    }
   ],
   "source": [
    "a = Analytics()\n",
    "e = ExecutionEngine()\n",
    "\n",
    "start_date = dt2secs(date(year=start_year,month=1,day=1))  #Start_year-01-01\n",
    "end_date = dt2secs(date(year=end_year, month=12, day=31)) #End_year-12-31\n",
    "\n",
    "dimensions = {'X': {'range': (147.0, 147.125)},\n",
    "              'Y': {'range': (-36.0, -36 +0.125)},\n",
    "              'T': {'range': (start_date, end_date)}\n",
    "              }\n",
    "\n",
    "'''\n",
    "It should work with LS7ETM y LS7ETMPQ, \n",
    "however we doesn't know the valid ranges \n",
    "for this dataset at this moment.\n",
    "'''\n",
    "arrays = a.createArray('LS5TM', ['B40','B30'], dimensions, 'bands_data') #B30: Band 3, B40: Band 4\n",
    "pq_data = a.createArray('LS5TMPQ', ['PQ'], dimensions, 'pq_data') #PQ: Pixel Quality, variable that will be used in masking. "
   ]
  },
  {
   "cell_type": "code",
   "execution_count": null,
   "metadata": {
    "collapsed": false,
    "scrolled": false
   },
   "outputs": [
    {
     "name": "stderr",
     "output_type": "stream",
     "text": [
      "DEBUG:analytics:function before = ((array1 - array2) / (array1 + array2))\n"
     ]
    },
    {
     "name": "stdout",
     "output_type": "stream",
     "text": [
      "function before = ((array1 - array2) / (array1 + array2))\n"
     ]
    },
    {
     "name": "stderr",
     "output_type": "stream",
     "text": [
      "DEBUG:analytics:function after = ((B40 - B30) / (B40 + B30))\n"
     ]
    },
    {
     "name": "stdout",
     "output_type": "stream",
     "text": [
      "function after = ((B40 - B30) / (B40 + B30))\n"
     ]
    },
    {
     "name": "stderr",
     "output_type": "stream",
     "text": [
      "DEBUG:analytics:function before = median(array1)\n"
     ]
    },
    {
     "name": "stdout",
     "output_type": "stream",
     "text": [
      "function before = median(array1)\n"
     ]
    },
    {
     "name": "stderr",
     "output_type": "stream",
     "text": [
      "DEBUG:analytics:function after = median(mask)\n"
     ]
    },
    {
     "name": "stdout",
     "output_type": "stream",
     "text": [
      "function after = median(mask)\n",
      "{'mask': {'array_input': ['ndvi'],\n",
      "          'array_mask': 'pq_data',\n",
      "          'array_output': {'data_type': 'int16',\n",
      "                           'dimensions': {'T': {'range': (1262304000,\n",
      "                                                          1293753600)},\n",
      "                                          'X': {'range': (147.0, 147.125)},\n",
      "                                          'Y': {'range': (-36.0, -35.875)}},\n",
      "                           'dimensions_order': ['T', 'Y', 'X'],\n",
      "                           'no_data_value': -999.0,\n",
      "                           'shape': (17, 500.0, 500.0),\n",
      "                           'storage_type': 'LS5TM',\n",
      "                           'variable': 'mask'},\n",
      "          'function': 'apply_cloud_mask',\n",
      "          'orig_function': 'apply_cloud_mask'}}\n",
      "{'mask': {'array_input': ['ndvi'],\n",
      "          'array_mask': 'pq_data',\n",
      "          'array_output': {'data_type': 'int16',\n",
      "                           'dimensions': {'T': {'range': (1262304000,\n",
      "                                                          1293753600)},\n",
      "                                          'X': {'range': (147.0, 147.125)},\n",
      "                                          'Y': {'range': (-36.0, -35.875)}},\n",
      "                           'dimensions_order': ['T', 'Y', 'X'],\n",
      "                           'no_data_value': -999.0,\n",
      "                           'shape': (17, 500.0, 500.0),\n",
      "                           'storage_type': 'LS5TM',\n",
      "                           'variable': 'mask'},\n",
      "          'function': 'apply_cloud_mask',\n",
      "          'orig_function': 'apply_cloud_mask'}}\n"
     ]
    }
   ],
   "source": [
    "##Operations between bands\n",
    "ndvi = a.applyBandMath(arrays, '((array1 - array2) / (array1 + array2))', 'ndvi') #Normalized Difference Vegetation Index\n",
    "\n",
    "##Cloud masking using quality of pixel data\n",
    "mask = a.applyCloudMask(ndvi, pq_data, 'mask') #Cloud mask\n",
    "\n",
    "#Reduction (mean)\n",
    "median_t = a.applyGenericReduction(mask, ['T'], 'median(array1)', 'medianT') \n"
   ]
  },
  {
   "cell_type": "code",
   "execution_count": null,
   "metadata": {
    "collapsed": false,
    "scrolled": false
   },
   "outputs": [],
   "source": [
    "result = e.executePlan(a.plan)\n",
    "plot(e.cache['medianT'])\n"
   ]
  },
  {
   "cell_type": "code",
   "execution_count": null,
   "metadata": {
    "collapsed": true
   },
   "outputs": [],
   "source": []
  }
 ],
 "metadata": {
  "kernelspec": {
   "display_name": "Python 2",
   "language": "python",
   "name": "python2"
  },
  "language_info": {
   "codemirror_mode": {
    "name": "ipython",
    "version": 2
   },
   "file_extension": ".py",
   "mimetype": "text/x-python",
   "name": "python",
   "nbconvert_exporter": "python",
   "pygments_lexer": "ipython2",
   "version": "2.7.10"
  }
 },
 "nbformat": 4,
 "nbformat_minor": 0
}
